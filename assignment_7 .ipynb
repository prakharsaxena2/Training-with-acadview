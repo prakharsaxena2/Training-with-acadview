import pandas

'''Q1'''
data = {'Name':['Hemant'],'Age':[20],'Email id':['hemantsinghpanwar02@gmail.com'],'Mobile':['9656823476']}
dframe = pandas.DataFrame(data)
#Details of 1st friend
dframe.loc[1]=['Chetan',20,'talktochetan@gmail.com','1246845685']
#Details of 2nd friend
dframe.loc[2]=['Durgesh',20,'durgeshansal65@gmail.com','8455448496']
print(dframe)
print("\n")

'''Q2'''
df=pandas.read_csv('weather.csv')
#print first 5 rows of Dataframe
print(df.head(5))
#print first 10 rows of the Dataframe
print(df.head(10))
#find basic statistics on the particular dataset.
print(df['MinTemp'].describe())
print(df['MaxTemp'].describe())
#find the last 5 rows of the dataframe
print(df.tail(5))
#extract the 2nd column and find basic statistics on it.
finaldata=[df.iloc[:,2].sum(),
df.iloc[:,2].mean(),
df.iloc[:,2].median(),
df.iloc[:,2].nunique(),
df.iloc[:,2].max(),
df.iloc[:,2].min()]
print(finaldata) 